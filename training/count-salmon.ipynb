{
 "cells": [
  {
   "cell_type": "code",
   "execution_count": 21,
   "id": "f18523ef-0eec-4a7e-8ebf-b08369a65790",
   "metadata": {},
   "outputs": [],
   "source": [
    "import datumaro as dm\n",
    "import os\n",
    "from os import path as osp\n",
    "import cv2\n",
    "from matplotlib import pyplot as plt\n",
    "import glob\n",
    "from ultralytics import YOLO\n",
    "from ultralytics import settings\n",
    "from abc import ABC, abstractmethod\n",
    "from pathlib import Path\n",
    "\n",
    "from collections import defaultdict\n",
    "import numpy as np\n",
    "\n",
    "# Update a setting\n",
    "settings.update({'runs_dir': '/training/runs'})\n",
    "\n",
    "DUP_LABELS_MAPPING = {\n",
    "        'White Fish': 'Whitefish',\n",
    "        'Bull Trout': 'Bull',\n",
    "        'Lan prey': 'Lamprey',\n",
    "        'Lampray': 'Lamprey'\n",
    "        }"
   ]
  },
  {
   "cell_type": "markdown",
   "id": "26bee708-b541-40bd-8393-e613bafbab8e",
   "metadata": {},
   "source": [
    "# DataLoader\n",
    "* data_frames\n",
    "* load()\n",
    "* next_frame()\n",
    "# SalmonCounter\n",
    "* DataLoader field\n",
    "* model\n",
    "* track_history\n",
    "* LINE_OF_INTEREST_RATIO\n",
    "* load()\n",
    "* count()\n",
    "# Evaluator\n",
    "* evaluate()"
   ]
  },
  {
   "cell_type": "code",
   "execution_count": null,
   "id": "90adabd5-f394-40a1-a6c4-06f74e6945d7",
   "metadata": {
    "scrolled": true
   },
   "outputs": [],
   "source": [
    "def track_img_frames(model_path, frames_folder):\n",
    "    botsort='botsort.yaml'\n",
    "    bytetrack='bytetrack.yaml'\n",
    "    \n",
    "    model = YOLO(model_path)\n",
    "    frames = glob.glob(osp.join(frames_folder, '*.jpg'))\n",
    "    fourcc = cv2.VideoWriter_fourcc(*'MP4V')\n",
    "    out = cv2.VideoWriter('output.mp4', fourcc, 25.0, (1920, 1080))\n",
    "    for frame in sorted(frames):\n",
    "        results = model.track(frame, persist=True, tracker=bytetrack)\n",
    "        \n",
    "        # Visualize the results on the frame\n",
    "        annotated_frame = results[0].plot()\n",
    "\n",
    "        out.write(annotated_frame)\n",
    "\n",
    "    out.release()\n",
    "\n",
    "track_img_frames('runs/detect/train20/weights/best.pt', '/mnt/shiorissd4tb/masamim/export_kitwanga_all_yolo/test/09-02-2020_07-49-21_m_salmon_camera/obj_train_data/')\n",
    "#track_img_frames('train_57_no_filt/weights/best.pt', '/home/masamim/salmon-computer-vision/utils/export_bear_creek_all_yolo/test/09-04-2021_06-42-05_m_network_camera/obj_train_data/')"
   ]
  },
  {
   "cell_type": "code",
   "execution_count": null,
   "id": "c6210f45-cd1b-4d8c-9a9a-fa9e3902ba6a",
   "metadata": {
    "scrolled": true
   },
   "outputs": [],
   "source": [
    "class DataLoader(ABC):\n",
    "    @abstractmethod\n",
    "    def frames():\n",
    "        pass\n",
    "\n",
    "class ImageDirLoader(DataLoader):\n",
    "    IMG_PATTERN = '*.[jpJP][npNP]*[gG$]'\n",
    "    def __init__(self, img_folder):\n",
    "        path = Path(img_folder).resolve()\n",
    "        if not path.is_dir():\n",
    "            raise ValueError(f\"'{path}' is not a directory.\")\n",
    "        self.image_dir = path\n",
    "        \n",
    "    def frames(self):\n",
    "        frec = lambda p, g: p.glob(g)\n",
    "        for f in frec(self.image_dir, self.IMG_PATTERN):\n",
    "            yield f\n",
    "\n",
    "d = ImageDirLoader('/mnt/shiorissd4tb/masamim/export_kitwanga_all_yolo/test/09-02-2020_07-49-21_m_salmon_camera/obj_train_data/')\n",
    "for x in d.frames():\n",
    "    print(x)"
   ]
  },
  {
   "cell_type": "code",
   "execution_count": null,
   "id": "a8c1f0e2-a971-471f-a8a8-6421e91fa15e",
   "metadata": {},
   "outputs": [],
   "source": [
    "class SalmonCounter:\n",
    "    def __init__(self, model_path: str, dataloader: DataLoader):\n",
    "        self.model = YOLO(model_path)\n",
    "        self.dataloader = dataloader\n",
    "        self.track_history = defaultdict(lambda: [])\n",
    "        self.salm_count = defaultdict(lambda: [])\n",
    "\n",
    "    def count():\n",
    "        for frame in self.dataloader.frames():\n",
    "            # Run YOLOv8 tracking on the frame, persisting tracks between frames\n",
    "            results = model.track(frame, persist=True)\n",
    "    \n",
    "            # Get the boxes and track IDs\n",
    "            boxes = results[0].boxes.xywh.cpu()\n",
    "            track_ids = results[0].boxes.id.int().cpu().tolist()\n",
    "    \n",
    "            # Visualize the results on the frame\n",
    "            annotated_frame = results[0].plot()\n",
    "    \n",
    "            # TODO: Implement LOI alg to count\n",
    "            # Plot the tracks\n",
    "            for box, track_id in zip(boxes, track_ids):\n",
    "                x, y, w, h = box\n",
    "                track = self.track_history[track_id]\n",
    "                track.append((float(x), float(y)))  # x, y center point\n",
    "                #if len(track) > 30:  # retain 90 tracks for 90 frames\n",
    "                #    track.pop(0)\n",
    "    \n",
    "                # Draw the tracking lines\n",
    "                points = np.hstack(track).astype(np.int32).reshape((-1, 1, 2))\n",
    "                cv2.polylines(annotated_frame, [points], isClosed=False, color=(230, 230, 230), thickness=10)\n",
    "\n",
    "    def _line_of_interest(self, f_width, track_id, track):\n",
    "        # Remember currently tracking IDs\n",
    "        # Once a track disappears for maybe 3 frames\n",
    "        return"
   ]
  }
 ],
 "metadata": {
  "kernelspec": {
   "display_name": "Python 3 (ipykernel)",
   "language": "python",
   "name": "python3"
  },
  "language_info": {
   "codemirror_mode": {
    "name": "ipython",
    "version": 3
   },
   "file_extension": ".py",
   "mimetype": "text/x-python",
   "name": "python",
   "nbconvert_exporter": "python",
   "pygments_lexer": "ipython3",
   "version": "3.10.13"
  }
 },
 "nbformat": 4,
 "nbformat_minor": 5
}
