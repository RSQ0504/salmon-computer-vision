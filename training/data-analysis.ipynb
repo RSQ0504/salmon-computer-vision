{
 "cells": [
  {
   "cell_type": "code",
   "execution_count": 39,
   "id": "1c51ccde-fe15-48f5-940c-f864da56c19c",
   "metadata": {
    "scrolled": true
   },
   "outputs": [
    {
     "data": {
      "text/plain": [
       "{'images count': 1639773,\n",
       " 'annotations count': 525324,\n",
       " 'unannotated images count': 1164600,\n",
       " 'Coho': 386460,\n",
       " 'Pink': 38738,\n",
       " 'Bull': 3682,\n",
       " 'Chum': 3231,\n",
       " 'Whitefish': 13127,\n",
       " 'Sockeye': 24317,\n",
       " 'Steelhead': 1838,\n",
       " 'Rainbow': 6101,\n",
       " 'Chinook': 30137,\n",
       " 'Pikeminnow': 15098,\n",
       " 'Shiner': 1871,\n",
       " 'Lampray': 502,\n",
       " 'Cutthroat': 222}"
      ]
     },
     "execution_count": 39,
     "metadata": {},
     "output_type": "execute_result"
    }
   ],
   "source": [
    "# Run datum_stats.sh first\n",
    "import json\n",
    "import os.path as osp\n",
    "import csv\n",
    "import glob\n",
    "\n",
    "def load_json(filepath):\n",
    "    with open(filepath, 'r') as f:\n",
    "        st = json.load(f)\n",
    "    return st\n",
    "\n",
    "def sum_merge(sum_dict, key, val):\n",
    "    if not key in sum_dict:\n",
    "        sum_dict[key] = 0\n",
    "    sum_dict[key] += val\n",
    "\n",
    "def parse_stats(folder):\n",
    "    KEY_IMG_COUNT = 'images count'\n",
    "    KEY_ANNO_COUNT = 'annotations count'\n",
    "    KEY_UNANNO_IMG_COUNT = 'unannotated images count'\n",
    "    \n",
    "    common_keys = [KEY_IMG_COUNT, KEY_ANNO_COUNT, KEY_UNANNO_IMG_COUNT]\n",
    "    sum_dict = {KEY_IMG_COUNT: 0, KEY_ANNO_COUNT: 0, KEY_UNANNO_IMG_COUNT: 0}\n",
    "\n",
    "    for dir in glob.glob(osp.join(folder, '*')):\n",
    "        file = osp.join(dir, 'statistics.json')\n",
    "        stat_json = load_json(file)\n",
    "        # Counts\n",
    "        for key in common_keys:\n",
    "            sum_dict[key] += int(stat_json[key])\n",
    "        # Distribution\n",
    "        for key, val in stat_json['annotations']['labels']['distribution'].items():\n",
    "            sum_merge(sum_dict, key, val[0])\n",
    "    \n",
    "    return sum_dict"
   ]
  },
  {
   "cell_type": "code",
   "execution_count": 46,
   "id": "dde70f85-86f0-4956-b4d1-58ecce46c477",
   "metadata": {},
   "outputs": [
    {
     "data": {
      "text/plain": [
       "{'images count': 1639780,\n",
       " 'annotations count': 525324,\n",
       " 'unannotated images count': 1164607,\n",
       " 'Coho': 386460,\n",
       " 'Bull': 3682,\n",
       " 'Rainbow': 6101,\n",
       " 'Sockeye': 24317,\n",
       " 'Pink': 38738,\n",
       " 'Whitefish': 13127,\n",
       " 'Chinook': 30137,\n",
       " 'Shiner': 1871,\n",
       " 'Pikeminnow': 15098,\n",
       " 'Chum': 3231,\n",
       " 'Steelhead': 1838,\n",
       " 'Jack Chinook': 0,\n",
       " 'Lamprey': 502,\n",
       " 'Cutthroat': 222}"
      ]
     },
     "execution_count": 46,
     "metadata": {},
     "output_type": "execute_result"
    }
   ],
   "source": [
    "kit_stats = parse_stats('stats_kit')\n",
    "kit_stats"
   ]
  },
  {
   "cell_type": "code",
   "execution_count": 44,
   "id": "1380a9f9-c389-48a2-97c1-02fede9eff05",
   "metadata": {},
   "outputs": [
    {
     "data": {
      "text/plain": [
       "{'images count': 46475,\n",
       " 'annotations count': 32613,\n",
       " 'unannotated images count': 17056,\n",
       " 'Coho': 2786,\n",
       " 'Bull': 352,\n",
       " 'Rainbow': 0,\n",
       " 'Sockeye': 7507,\n",
       " 'Pink': 6618,\n",
       " 'Whitefish': 1242,\n",
       " 'Chinook': 11665,\n",
       " 'Shiner': 0,\n",
       " 'Pikeminnow': 0,\n",
       " 'Chum': 0,\n",
       " 'Steelhead': 0,\n",
       " 'Jack Chinook': 2443,\n",
       " 'Lamprey': 0,\n",
       " 'Cutthroat': 0,\n",
       " 'Juvenile Salmonoid': 0}"
      ]
     },
     "execution_count": 44,
     "metadata": {},
     "output_type": "execute_result"
    }
   ],
   "source": [
    "bear_stats = parse_stats('stats_bear')\n",
    "bear_stats"
   ]
  },
  {
   "cell_type": "code",
   "execution_count": 47,
   "id": "a05a6a60-92dd-4a06-819f-1cd07e1ad220",
   "metadata": {},
   "outputs": [
    {
     "data": {
      "text/plain": [
       "{'images count': 1686255,\n",
       " 'annotations count': 557937,\n",
       " 'unannotated images count': 1181663,\n",
       " 'Coho': 389246,\n",
       " 'Bull': 4034,\n",
       " 'Rainbow': 6101,\n",
       " 'Sockeye': 31824,\n",
       " 'Pink': 45356,\n",
       " 'Whitefish': 14369,\n",
       " 'Chinook': 41802,\n",
       " 'Shiner': 1871,\n",
       " 'Pikeminnow': 15098,\n",
       " 'Chum': 3231,\n",
       " 'Steelhead': 1838,\n",
       " 'Jack Chinook': 2443,\n",
       " 'Lamprey': 502,\n",
       " 'Cutthroat': 222,\n",
       " 'Juvenile Salmonoid': 0}"
      ]
     },
     "execution_count": 47,
     "metadata": {},
     "output_type": "execute_result"
    }
   ],
   "source": [
    "kit_bear_stats = kit_stats\n",
    "for key, val in bear_stats.items():\n",
    "    sum_merge(kit_bear_stats, key, val)\n",
    "kit_bear_stats"
   ]
  },
  {
   "cell_type": "code",
   "execution_count": 7,
   "id": "d172a1aa-bfd3-453f-a229-41aec0ce4b87",
   "metadata": {},
   "outputs": [
    {
     "ename": "NotADirectoryError",
     "evalue": "[Errno 20] Not a directory: 'DDD_annos/DDD UPLOAD/statistics.18.json/statistics.json'",
     "output_type": "error",
     "traceback": [
      "\u001b[0;31m---------------------------------------------------------------------------\u001b[0m",
      "\u001b[0;31mNotADirectoryError\u001b[0m                        Traceback (most recent call last)",
      "Cell \u001b[0;32mIn[7], line 1\u001b[0m\n\u001b[0;32m----> 1\u001b[0m \u001b[43mparse_stats\u001b[49m\u001b[43m(\u001b[49m\u001b[38;5;124;43m'\u001b[39;49m\u001b[38;5;124;43mDDD_annos/DDD UPLOAD/\u001b[39;49m\u001b[38;5;124;43m'\u001b[39;49m\u001b[43m)\u001b[49m\n",
      "Cell \u001b[0;32mIn[5], line 22\u001b[0m, in \u001b[0;36mparse_stats\u001b[0;34m(folder)\u001b[0m\n\u001b[1;32m     20\u001b[0m \u001b[38;5;28;01mfor\u001b[39;00m \u001b[38;5;28mdir\u001b[39m \u001b[38;5;129;01min\u001b[39;00m glob\u001b[38;5;241m.\u001b[39mglob(osp\u001b[38;5;241m.\u001b[39mjoin(folder, \u001b[38;5;124m'\u001b[39m\u001b[38;5;124m*\u001b[39m\u001b[38;5;124m'\u001b[39m)):\n\u001b[1;32m     21\u001b[0m     file \u001b[38;5;241m=\u001b[39m osp\u001b[38;5;241m.\u001b[39mjoin(\u001b[38;5;28mdir\u001b[39m, \u001b[38;5;124m'\u001b[39m\u001b[38;5;124mstatistics.json\u001b[39m\u001b[38;5;124m'\u001b[39m)\n\u001b[0;32m---> 22\u001b[0m     stat_json \u001b[38;5;241m=\u001b[39m \u001b[43mload_json\u001b[49m\u001b[43m(\u001b[49m\u001b[43mfile\u001b[49m\u001b[43m)\u001b[49m\n\u001b[1;32m     23\u001b[0m     \u001b[38;5;66;03m# Counts\u001b[39;00m\n\u001b[1;32m     24\u001b[0m     \u001b[38;5;28;01mfor\u001b[39;00m key \u001b[38;5;129;01min\u001b[39;00m common_keys:\n",
      "Cell \u001b[0;32mIn[5], line 8\u001b[0m, in \u001b[0;36mload_json\u001b[0;34m(filepath)\u001b[0m\n\u001b[1;32m      7\u001b[0m \u001b[38;5;28;01mdef\u001b[39;00m \u001b[38;5;21mload_json\u001b[39m(filepath):\n\u001b[0;32m----> 8\u001b[0m     \u001b[38;5;28;01mwith\u001b[39;00m \u001b[38;5;28;43mopen\u001b[39;49m\u001b[43m(\u001b[49m\u001b[43mfilepath\u001b[49m\u001b[43m,\u001b[49m\u001b[43m \u001b[49m\u001b[38;5;124;43m'\u001b[39;49m\u001b[38;5;124;43mr\u001b[39;49m\u001b[38;5;124;43m'\u001b[39;49m\u001b[43m)\u001b[49m \u001b[38;5;28;01mas\u001b[39;00m f:\n\u001b[1;32m      9\u001b[0m         st \u001b[38;5;241m=\u001b[39m json\u001b[38;5;241m.\u001b[39mload(f)\n\u001b[1;32m     10\u001b[0m     \u001b[38;5;28;01mreturn\u001b[39;00m st\n",
      "File \u001b[0;32m/opt/conda/lib/python3.10/site-packages/IPython/core/interactiveshell.py:286\u001b[0m, in \u001b[0;36m_modified_open\u001b[0;34m(file, *args, **kwargs)\u001b[0m\n\u001b[1;32m    279\u001b[0m \u001b[38;5;28;01mif\u001b[39;00m file \u001b[38;5;129;01min\u001b[39;00m {\u001b[38;5;241m0\u001b[39m, \u001b[38;5;241m1\u001b[39m, \u001b[38;5;241m2\u001b[39m}:\n\u001b[1;32m    280\u001b[0m     \u001b[38;5;28;01mraise\u001b[39;00m \u001b[38;5;167;01mValueError\u001b[39;00m(\n\u001b[1;32m    281\u001b[0m         \u001b[38;5;124mf\u001b[39m\u001b[38;5;124m\"\u001b[39m\u001b[38;5;124mIPython won\u001b[39m\u001b[38;5;124m'\u001b[39m\u001b[38;5;124mt let you open fd=\u001b[39m\u001b[38;5;132;01m{\u001b[39;00mfile\u001b[38;5;132;01m}\u001b[39;00m\u001b[38;5;124m by default \u001b[39m\u001b[38;5;124m\"\u001b[39m\n\u001b[1;32m    282\u001b[0m         \u001b[38;5;124m\"\u001b[39m\u001b[38;5;124mas it is likely to crash IPython. If you know what you are doing, \u001b[39m\u001b[38;5;124m\"\u001b[39m\n\u001b[1;32m    283\u001b[0m         \u001b[38;5;124m\"\u001b[39m\u001b[38;5;124myou can use builtins\u001b[39m\u001b[38;5;124m'\u001b[39m\u001b[38;5;124m open.\u001b[39m\u001b[38;5;124m\"\u001b[39m\n\u001b[1;32m    284\u001b[0m     )\n\u001b[0;32m--> 286\u001b[0m \u001b[38;5;28;01mreturn\u001b[39;00m \u001b[43mio_open\u001b[49m\u001b[43m(\u001b[49m\u001b[43mfile\u001b[49m\u001b[43m,\u001b[49m\u001b[43m \u001b[49m\u001b[38;5;241;43m*\u001b[39;49m\u001b[43margs\u001b[49m\u001b[43m,\u001b[49m\u001b[43m \u001b[49m\u001b[38;5;241;43m*\u001b[39;49m\u001b[38;5;241;43m*\u001b[39;49m\u001b[43mkwargs\u001b[49m\u001b[43m)\u001b[49m\n",
      "\u001b[0;31mNotADirectoryError\u001b[0m: [Errno 20] Not a directory: 'DDD_annos/DDD UPLOAD/statistics.18.json/statistics.json'"
     ]
    }
   ],
   "source": [
    "parse_stats('DDD_annos/DDD UPLOAD/')"
   ]
  },
  {
   "cell_type": "code",
   "execution_count": 38,
   "id": "ee14e06f-a722-4883-901e-c0d2cbd6204a",
   "metadata": {},
   "outputs": [
    {
     "name": "stdout",
     "output_type": "stream",
     "text": [
      "{'Coho': 572, 'Bull': 62, 'Rainbow': 0, 'Sockeye': 2667, 'Pink': 1531, 'Whitefish': 220, 'Chinook': 4923, 'Shiner': 0, 'Pikeminnow': 0, 'Chum': 0, 'Steelhead': 0, 'Jack Chinook': 454, 'Lamprey': 0, 'Cutthroat': 0, 'Juvenile Salmonoid': 0}\n"
     ]
    },
    {
     "data": {
      "text/plain": [
       "493812"
      ]
     },
     "execution_count": 38,
     "metadata": {},
     "output_type": "execute_result"
    }
   ],
   "source": [
    "def sum_distrib():\n",
    "    distrib_kit = load_json('/home/masamim/salmon-computer-vision/utils/datum_proj_kitwanga_merged_preprocess_train_split/distribution.json')\n",
    "    distrib_bear = load_json('/home/masamim/salmon-computer-vision/utils/datum_proj_bear_creek_merged_preprocess_train_split/distribution.json')\n",
    "    sum = 0\n",
    "    for distrib in [distrib_kit, distrib_bear]:\n",
    "        for key, val in distrib.items():\n",
    "            sum += val\n",
    "    return sum\n",
    "\n",
    "sum_distrib()"
   ]
  }
 ],
 "metadata": {
  "kernelspec": {
   "display_name": "Python 3 (ipykernel)",
   "language": "python",
   "name": "python3"
  },
  "language_info": {
   "codemirror_mode": {
    "name": "ipython",
    "version": 3
   },
   "file_extension": ".py",
   "mimetype": "text/x-python",
   "name": "python",
   "nbconvert_exporter": "python",
   "pygments_lexer": "ipython3",
   "version": "3.10.13"
  }
 },
 "nbformat": 4,
 "nbformat_minor": 5
}
