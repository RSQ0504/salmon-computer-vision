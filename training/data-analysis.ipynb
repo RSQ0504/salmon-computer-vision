{
 "cells": [
  {
   "cell_type": "code",
   "execution_count": 1,
   "id": "1c51ccde-fe15-48f5-940c-f864da56c19c",
   "metadata": {},
   "outputs": [
    {
     "data": {
      "text/plain": [
       "{'images count': 6594,\n",
       " 'annotations count': 2044,\n",
       " 'unannotated images count': 4618,\n",
       " 'Sockeye Salmon': 1068,\n",
       " 'Coho Salmon': 854,\n",
       " 'Pink Salmon': 82,\n",
       " 'Juvenile coho salmon': 40}"
      ]
     },
     "execution_count": 1,
     "metadata": {},
     "output_type": "execute_result"
    }
   ],
   "source": [
    "# Run datum_stats.sh first\n",
    "import json\n",
    "import os.path as osp\n",
    "import csv\n",
    "import glob\n",
    "\n",
    "def load_json(filepath):\n",
    "    with open(filepath, 'r') as f:\n",
    "        st = json.load(f)\n",
    "    return st\n",
    "\n",
    "def parse_stats(folder):\n",
    "    files='statistics*.json'\n",
    "    KEY_IMG_COUNT = 'images count'\n",
    "    KEY_ANNO_COUNT = 'annotations count'\n",
    "    KEY_UNANNO_IMG_COUNT = 'unannotated images count'\n",
    "    \n",
    "    common_keys = [KEY_IMG_COUNT, KEY_ANNO_COUNT, KEY_UNANNO_IMG_COUNT]\n",
    "    sum_dict = {KEY_IMG_COUNT: 0, KEY_ANNO_COUNT: 0, KEY_UNANNO_IMG_COUNT: 0}\n",
    "\n",
    "    for file in glob.glob(osp.join(folder, files)):\n",
    "        stat_json = load_json(file)\n",
    "        # Counts\n",
    "        for key in common_keys:\n",
    "            sum_dict[key] += int(stat_json[key])\n",
    "        # Distribution\n",
    "        for key, val in stat_json['annotations']['labels']['distribution'].items():\n",
    "            if not key in sum_dict:\n",
    "                sum_dict[key] = 0\n",
    "            sum_dict[key] += val[0]\n",
    "    \n",
    "    return sum_dict\n",
    "    \n",
    "parse_stats('DDD_annos/DDD UPLOAD/')"
   ]
  }
 ],
 "metadata": {
  "kernelspec": {
   "display_name": "Python 3 (ipykernel)",
   "language": "python",
   "name": "python3"
  },
  "language_info": {
   "codemirror_mode": {
    "name": "ipython",
    "version": 3
   },
   "file_extension": ".py",
   "mimetype": "text/x-python",
   "name": "python",
   "nbconvert_exporter": "python",
   "pygments_lexer": "ipython3",
   "version": "3.10.13"
  }
 },
 "nbformat": 4,
 "nbformat_minor": 5
}
